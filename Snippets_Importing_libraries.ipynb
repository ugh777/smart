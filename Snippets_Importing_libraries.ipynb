{
  "cells": [
    {
      "cell_type": "markdown",
      "metadata": {
        "id": "view-in-github",
        "colab_type": "text"
      },
      "source": [
        "<a href=\"https://colab.research.google.com/github/ugh777/smart/blob/ugh777-patch-1/Snippets_Importing_libraries.ipynb\" target=\"_parent\"><img src=\"https://colab.research.google.com/assets/colab-badge.svg\" alt=\"Open In Colab\"/></a>"
      ]
    },
    {
      "cell_type": "markdown",
      "metadata": {
        "id": "kDn_lVxg3Z2G"
      },
      "source": [
        "# Importing a library that is not in Colaboratory\n",
        "\n",
        "To import a library that's not in Colaboratory by default, you can use `!pip install` or `!apt-get install`."
      ]
    },
    {
      "cell_type": "code",
      "execution_count": null,
      "metadata": {
        "id": "GQ18Kd5F3uKe"
      },
      "outputs": [],
      "source": [
        "!pip install matplotlib-venn"
      ]
    },
    {
      "cell_type": "code",
      "execution_count": null,
      "metadata": {
        "id": "__3eqm3q3sr-"
      },
      "outputs": [],
      "source": [
        "!apt-get -qq install -y libfluidsynth1"
      ]
    },
    {
      "cell_type": "markdown",
      "metadata": {
        "id": "apoRbfWsRZ7S"
      },
      "source": [
        "# Install 7zip reader [libarchive](https://pypi.python.org/pypi/libarchive)"
      ]
    },
    {
      "cell_type": "code",
      "execution_count": null,
      "metadata": {
        "id": "d_j7nNbKRmhx"
      },
      "outputs": [],
      "source": [
        "# https://pypi.python.org/pypi/libarchive\n",
        "!apt-get -qq install -y libarchive-dev && pip install -U libarchive\n",
        "import libarchive"
      ]
    },
    {
      "cell_type": "markdown",
      "metadata": {
        "id": "PeaSX9KXR58J"
      },
      "source": [
        "# Install GraphViz & [PyDot](https://pypi.python.org/pypi/pydot)"
      ]
    },
    {
      "cell_type": "code",
      "execution_count": 2,
      "metadata": {
        "colab": {
          "base_uri": "https://localhost:8080/"
        },
        "id": "w9llCG2wSRDx",
        "outputId": "dcd275cd-5f7a-4393-ae2c-3e8455aeea42"
      },
      "outputs": [
        {
          "output_type": "stream",
          "name": "stdout",
          "text": [
            "Requirement already satisfied: pydot in /usr/local/lib/python3.11/dist-packages (3.0.4)\n",
            "Requirement already satisfied: pyparsing>=3.0.9 in /usr/local/lib/python3.11/dist-packages (from pydot) (3.2.3)\n"
          ]
        }
      ],
      "source": [
        "# https://pypi.python.org/pypi/pydot\n",
        "!apt-get -qq install -y graphviz && pip install pydot\n",
        "import pydot"
      ]
    },
    {
      "cell_type": "markdown",
      "source": [
        "# New Section"
      ],
      "metadata": {
        "id": "kQDfLctSB5KY"
      }
    },
    {
      "cell_type": "code",
      "source": [
        "def prepare_imdb_dataset(num_words: int, index_from: int, oov_char: int = 2) -> tuple:\n",
        "    \"\"\"Download and preprocess the IMDB dataset from TensorFlow Datasets.\n",
        "\n",
        "    Args:\n",
        "        num_words (int): The maximum number of words to keep in the vocabulary.\n",
        "        index_from (int): The starting index for word indices.\n",
        "        oov_char (int): The character to use for out-of-vocabulary words. Defaults to 2.\n",
        "\n",
        "    Returns:\n",
        "        A tuple containing the training and test sets with labels.\n",
        "    \"\"\"\n",
        "    response = requests.get(\"https://storage.googleapis.com/tensorflow/tf-keras-datasets/imdb.npz\")\n",
        "    response.raise_for_status()\n",
        "\n",
        "    # The training and test sets.\n",
        "    with np.load(io.BytesIO(response.content), allow_pickle=True) as f:\n",
        "        x_train, y_train = f[\"x_train\"], f[\"y_train\"]\n",
        "        x_test, y_test = f[\"x_test\"], f[\"y_test\"]\n",
        "\n",
        "    # Shuffle the training and test sets.\n",
        "    rng = np.random.RandomState(113)\n",
        "    indices = np.arange(len(x_train))\n",
        "    rng.shuffle(indices)\n",
        "    x_train = x_train[indices]\n",
        "    y_train = y_train[indices]\n",
        "\n",
        "    indices = np.arange(len(x_test))\n",
        "    rng.shuffle(indices)\n",
        "    x_test = x_test[indices]\n",
        "    y_test = y_test[indices]\n",
        "\n",
        "    # Adjust word indices to start from the specified index.\n",
        "    x_train = [[w + index_from for w in x] for x in x_train]\n",
        "    x_test = [[w + index_from for w in x] for x in x_test]\n",
        "\n",
        "    # Combine training and test sets, then truncates/pads sequences.\n",
        "    xs = x_train + x_test\n",
        "    labels = np.concatenate([y_train, y_test])\n",
        "    xs = [\n",
        "        [w if w < num_words else oov_char for w in x] for x in xs\n",
        "    ]\n",
        "\n",
        "    idx = len(x_train)\n",
        "    x_train, y_train = np.array(xs[:idx], dtype=\"object\"), labels[:idx]\n",
        "    x_test, y_test = np.array(xs[idx:], dtype=\"object\"), labels[idx:]\n",
        "\n",
        "    return (x_train, y_train), (x_test, y_test)\n",
        "\n",
        "  def pad_sequences(arrs: typing.Iterable, max_len: int) -> np.ndarray:\n",
        "    \"\"\"Pad array sequences to a fixed length.\n",
        "\n",
        "    Args:\n",
        "        arrs (typing.Iterable): A list of arrays.\n",
        "        max_len (int): The desired maximum length.\n",
        "\n",
        "    Returns:\n",
        "        A NumPy array of padded sequences.\n",
        "    \"\"\"\n",
        "    # Ensure that each sample is the same length\n",
        "    result = []\n",
        "    for arr in arrs:\n",
        "        arr_len = len(arr)\n",
        "        if arr_len < max_len:\n",
        "            padded_arr = np.pad(arr, (max_len - arr_len, 0), 'constant', constant_values=0)\n",
        "        else:\n",
        "            padded_arr = np.array(arr[arr_len - max_len:])\n",
        "        result.append(padded_arr)\n",
        "\n",
        "    return np.asarray(result)"
      ],
      "metadata": {
        "id": "qFPuuuqyB-r8",
        "outputId": "ddc17d7e-0044-46ea-ff02-09f27e805e4f",
        "colab": {
          "base_uri": "https://localhost:8080/",
          "height": 106
        }
      },
      "execution_count": 5,
      "outputs": [
        {
          "output_type": "error",
          "ename": "IndentationError",
          "evalue": "unindent does not match any outer indentation level (<tokenize>, line 49)",
          "traceback": [
            "\u001b[0;36m  File \u001b[0;32m\"<tokenize>\"\u001b[0;36m, line \u001b[0;32m49\u001b[0m\n\u001b[0;31m    def pad_sequences(arrs: typing.Iterable, max_len: int) -> np.ndarray:\u001b[0m\n\u001b[0m    ^\u001b[0m\n\u001b[0;31mIndentationError\u001b[0m\u001b[0;31m:\u001b[0m unindent does not match any outer indentation level\n"
          ]
        }
      ]
    },
    {
      "cell_type": "code",
      "source": [
        "from google.colab import drive\n",
        "drive.mount('/content/drive')"
      ],
      "metadata": {
        "id": "6FrSX6jgCcZ3"
      },
      "execution_count": null,
      "outputs": []
    },
    {
      "cell_type": "markdown",
      "metadata": {
        "id": "Tlh1MKxGrKFO"
      },
      "source": [
        "# Install [cartopy](http://scitools.org.uk/cartopy/docs/latest/)"
      ]
    },
    {
      "cell_type": "code",
      "execution_count": 1,
      "metadata": {
        "colab": {
          "base_uri": "https://localhost:8080/"
        },
        "id": "Zq68DSY2rP2W",
        "outputId": "9ccf1bfe-740b-4a6d-e739-f9f1234ca9f7"
      },
      "outputs": [
        {
          "output_type": "stream",
          "name": "stdout",
          "text": [
            "Collecting cartopy\n",
            "  Downloading Cartopy-0.24.1-cp311-cp311-manylinux_2_17_x86_64.manylinux2014_x86_64.whl.metadata (7.9 kB)\n",
            "Requirement already satisfied: numpy>=1.23 in /usr/local/lib/python3.11/dist-packages (from cartopy) (2.0.2)\n",
            "Requirement already satisfied: matplotlib>=3.6 in /usr/local/lib/python3.11/dist-packages (from cartopy) (3.10.0)\n",
            "Requirement already satisfied: shapely>=1.8 in /usr/local/lib/python3.11/dist-packages (from cartopy) (2.1.1)\n",
            "Requirement already satisfied: packaging>=21 in /usr/local/lib/python3.11/dist-packages (from cartopy) (24.2)\n",
            "Requirement already satisfied: pyshp>=2.3 in /usr/local/lib/python3.11/dist-packages (from cartopy) (2.3.1)\n",
            "Requirement already satisfied: pyproj>=3.3.1 in /usr/local/lib/python3.11/dist-packages (from cartopy) (3.7.1)\n",
            "Requirement already satisfied: contourpy>=1.0.1 in /usr/local/lib/python3.11/dist-packages (from matplotlib>=3.6->cartopy) (1.3.2)\n",
            "Requirement already satisfied: cycler>=0.10 in /usr/local/lib/python3.11/dist-packages (from matplotlib>=3.6->cartopy) (0.12.1)\n",
            "Requirement already satisfied: fonttools>=4.22.0 in /usr/local/lib/python3.11/dist-packages (from matplotlib>=3.6->cartopy) (4.58.1)\n",
            "Requirement already satisfied: kiwisolver>=1.3.1 in /usr/local/lib/python3.11/dist-packages (from matplotlib>=3.6->cartopy) (1.4.8)\n",
            "Requirement already satisfied: pillow>=8 in /usr/local/lib/python3.11/dist-packages (from matplotlib>=3.6->cartopy) (11.2.1)\n",
            "Requirement already satisfied: pyparsing>=2.3.1 in /usr/local/lib/python3.11/dist-packages (from matplotlib>=3.6->cartopy) (3.2.3)\n",
            "Requirement already satisfied: python-dateutil>=2.7 in /usr/local/lib/python3.11/dist-packages (from matplotlib>=3.6->cartopy) (2.9.0.post0)\n",
            "Requirement already satisfied: certifi in /usr/local/lib/python3.11/dist-packages (from pyproj>=3.3.1->cartopy) (2025.4.26)\n",
            "Requirement already satisfied: six>=1.5 in /usr/local/lib/python3.11/dist-packages (from python-dateutil>=2.7->matplotlib>=3.6->cartopy) (1.17.0)\n",
            "Downloading Cartopy-0.24.1-cp311-cp311-manylinux_2_17_x86_64.manylinux2014_x86_64.whl (11.7 MB)\n",
            "\u001b[2K   \u001b[90m━━━━━━━━━━━━━━━━━━━━━━━━━━━━━━━━━━━━━━━━\u001b[0m \u001b[32m11.7/11.7 MB\u001b[0m \u001b[31m55.9 MB/s\u001b[0m eta \u001b[36m0:00:00\u001b[0m\n",
            "\u001b[?25hInstalling collected packages: cartopy\n",
            "Successfully installed cartopy-0.24.1\n"
          ]
        }
      ],
      "source": [
        "!pip install cartopy\n",
        "import cartopy"
      ]
    }
  ],
  "metadata": {
    "colab": {
      "name": "Snippets: Importing libraries",
      "provenance": [],
      "include_colab_link": true
    },
    "kernelspec": {
      "display_name": "Python 3",
      "name": "python3"
    }
  },
  "nbformat": 4,
  "nbformat_minor": 0
}